{
 "cells": [
  {
   "cell_type": "code",
   "execution_count": 1,
   "id": "8c037418",
   "metadata": {},
   "outputs": [],
   "source": [
    "import sys\n",
    "import keyword\n",
    "import operator\n",
    "from datetime import datetime\n",
    "import os"
   ]
  },
  {
   "cell_type": "code",
   "execution_count": 2,
   "id": "21cc46bb",
   "metadata": {},
   "outputs": [
    {
     "name": "stdout",
     "output_type": "stream",
     "text": [
      "['False', 'None', 'True', '__peg_parser__', 'and', 'as', 'assert', 'async', 'await', 'break', 'class', 'continue', 'def', 'del', 'elif', 'else', 'except', 'finally', 'for', 'from', 'global', 'if', 'import', 'in', 'is', 'lambda', 'nonlocal', 'not', 'or', 'pass', 'raise', 'return', 'try', 'while', 'with', 'yield']\n"
     ]
    }
   ],
   "source": [
    "print(keyword.kwlist) #List all python keywords"
   ]
  },
  {
   "cell_type": "code",
   "execution_count": 4,
   "id": "1255ca2f",
   "metadata": {},
   "outputs": [
    {
     "data": {
      "text/plain": [
       "36"
      ]
     },
     "execution_count": 4,
     "metadata": {},
     "output_type": "execute_result"
    }
   ],
   "source": [
    "len(keyword.kwlist) #python contains 35 keywords"
   ]
  },
  {
   "cell_type": "markdown",
   "id": "be866787",
   "metadata": {},
   "source": [
    "# identifiers\n",
    "    An identifier is a nmae given to entities like class, functions, variables, etc. it helps to differentiate one entity from another."
   ]
  },
  {
   "cell_type": "code",
   "execution_count": 5,
   "id": "a7c512d3",
   "metadata": {},
   "outputs": [
    {
     "ename": "SyntaxError",
     "evalue": "invalid syntax (3689177861.py, line 1)",
     "output_type": "error",
     "traceback": [
      "\u001b[1;36m  Input \u001b[1;32mIn [5]\u001b[1;36m\u001b[0m\n\u001b[1;33m    1var = 10 #Indentifier can't start with a digit\u001b[0m\n\u001b[1;37m     ^\u001b[0m\n\u001b[1;31mSyntaxError\u001b[0m\u001b[1;31m:\u001b[0m invalid syntax\n"
     ]
    }
   ],
   "source": [
    "1var = 10 #Indentifier can't start with a digit"
   ]
  },
  {
   "cell_type": "code",
   "execution_count": 6,
   "id": "0a576ff5",
   "metadata": {},
   "outputs": [
    {
     "ename": "SyntaxError",
     "evalue": "invalid syntax (3986686119.py, line 1)",
     "output_type": "error",
     "traceback": [
      "\u001b[1;36m  Input \u001b[1;32mIn [6]\u001b[1;36m\u001b[0m\n\u001b[1;33m    val2@ = 35 #indentifier can't use special symbols\u001b[0m\n\u001b[1;37m          ^\u001b[0m\n\u001b[1;31mSyntaxError\u001b[0m\u001b[1;31m:\u001b[0m invalid syntax\n"
     ]
    }
   ],
   "source": [
    "val2@ = 35 #indentifier can't use special symbols"
   ]
  },
  {
   "cell_type": "code",
   "execution_count": 7,
   "id": "b0d08c2a",
   "metadata": {},
   "outputs": [
    {
     "ename": "SyntaxError",
     "evalue": "invalid syntax (3229780658.py, line 1)",
     "output_type": "error",
     "traceback": [
      "\u001b[1;36m  Input \u001b[1;32mIn [7]\u001b[1;36m\u001b[0m\n\u001b[1;33m    import = 125 #keywords can't be used as identifiers\u001b[0m\n\u001b[1;37m           ^\u001b[0m\n\u001b[1;31mSyntaxError\u001b[0m\u001b[1;31m:\u001b[0m invalid syntax\n"
     ]
    }
   ],
   "source": [
    "import = 125 #keywords can't be used as identifiers"
   ]
  },
  {
   "cell_type": "code",
   "execution_count": 8,
   "id": "8a165c0a",
   "metadata": {},
   "outputs": [],
   "source": [
    "\"\"\"\n",
    "Correct way of defining an identifier\n",
    "(identifiers can be a combination of letters in lower case (a to z) or upper case (A to Z)\n",
    "\"\"\"\n",
    "val2 =10"
   ]
  },
  {
   "cell_type": "code",
   "execution_count": 9,
   "id": "20689b2d",
   "metadata": {},
   "outputs": [],
   "source": [
    "val_ = 99"
   ]
  },
  {
   "cell_type": "markdown",
   "id": "ff826493",
   "metadata": {},
   "source": [
    "# Comments on Python\n",
    "    Comments can be used to explain the code for more readability"
   ]
  },
  {
   "cell_type": "code",
   "execution_count": 10,
   "id": "9139fda9",
   "metadata": {},
   "outputs": [],
   "source": [
    "# Single line Comment\n",
    "val1 = 10"
   ]
  },
  {
   "cell_type": "code",
   "execution_count": 11,
   "id": "9c072db7",
   "metadata": {},
   "outputs": [],
   "source": [
    "# Multiple\n",
    "#line \n",
    "#comment\n",
    "val1 = 10"
   ]
  },
  {
   "cell_type": "code",
   "execution_count": 12,
   "id": "fe8c0dc8",
   "metadata": {},
   "outputs": [],
   "source": [
    "'''\n",
    "Multiple \n",
    "line\n",
    "comment\n",
    "'''\n",
    "val1 = 10"
   ]
  },
  {
   "cell_type": "code",
   "execution_count": 13,
   "id": "a70d7d4f",
   "metadata": {},
   "outputs": [],
   "source": [
    "\"\"\"\n",
    "Multiple \n",
    "line\n",
    "comment\n",
    "\"\"\"\n",
    "val1 = 10"
   ]
  },
  {
   "cell_type": "markdown",
   "id": "ef0a2049",
   "metadata": {},
   "source": [
    "# Statements\n",
    "        Instructions that a python interpreter can execute."
   ]
  },
  {
   "cell_type": "code",
   "execution_count": 14,
   "id": "52b8d768",
   "metadata": {},
   "outputs": [
    {
     "data": {
      "text/plain": [
       "30"
      ]
     },
     "execution_count": 14,
     "metadata": {},
     "output_type": "execute_result"
    }
   ],
   "source": [
    "# SIngle line statement\n",
    "p1 = 10 + 20\n",
    "p1"
   ]
  },
  {
   "cell_type": "code",
   "execution_count": 15,
   "id": "2efd7c14",
   "metadata": {},
   "outputs": [
    {
     "data": {
      "text/plain": [
       "['a', 'b', 'c', 'd']"
      ]
     },
     "execution_count": 15,
     "metadata": {},
     "output_type": "execute_result"
    }
   ],
   "source": [
    "# single line statement\n",
    "p2 = ['a', 'b', 'c', 'd']\n",
    "p2"
   ]
  },
  {
   "cell_type": "code",
   "execution_count": 16,
   "id": "af9e6d98",
   "metadata": {},
   "outputs": [
    {
     "data": {
      "text/plain": [
       "290"
      ]
     },
     "execution_count": 16,
     "metadata": {},
     "output_type": "execute_result"
    }
   ],
   "source": [
    "#multiple line statement\n",
    "p1 = 20 + 30 \\\n",
    "    + 40 + 50 + \\\n",
    "    + 70 + 80\n",
    "p1"
   ]
  },
  {
   "cell_type": "code",
   "execution_count": 17,
   "id": "8faf241a",
   "metadata": {},
   "outputs": [
    {
     "data": {
      "text/plain": [
       "['a', 'b', 'c', 'd']"
      ]
     },
     "execution_count": 17,
     "metadata": {},
     "output_type": "execute_result"
    }
   ],
   "source": [
    "#multiple line statement\n",
    "p2 = ['a',\n",
    "         'b',\n",
    "             'c',\n",
    "                 'd'\n",
    "     ]\n",
    "p2"
   ]
  },
  {
   "cell_type": "markdown",
   "id": "b8e27b4b",
   "metadata": {},
   "source": [
    "# Indentation\n",
    "        Indentation refers to the spaces at the beginning of a code line. It is very important as python uses indentation to indicate a block of code. If the Indentation is not correct we will endup with IndentationError error."
   ]
  },
  {
   "cell_type": "code",
   "execution_count": 20,
   "id": "87d3ce9f",
   "metadata": {},
   "outputs": [
    {
     "name": "stdout",
     "output_type": "stream",
     "text": [
      "Q is equal to 10\n"
     ]
    }
   ],
   "source": [
    "p = 10\n",
    "if p == 10:\n",
    "    print ('Q is equal to 10') #correct indentation"
   ]
  },
  {
   "cell_type": "code",
   "execution_count": 22,
   "id": "0f8c9bfe",
   "metadata": {},
   "outputs": [
    {
     "name": "stdout",
     "output_type": "stream",
     "text": [
      "P is equal to 10\n"
     ]
    }
   ],
   "source": [
    "# if indentation is skipped we will encounter \"IndentationError: expected an indentation\"\n",
    "p = 10\n",
    "if p == 10:\n",
    "    print ('P is equal to 10')"
   ]
  },
  {
   "cell_type": "code",
   "execution_count": 23,
   "id": "dfbc6c5e",
   "metadata": {},
   "outputs": [
    {
     "name": "stdout",
     "output_type": "stream",
     "text": [
      "0\n",
      "1\n",
      "2\n",
      "3\n",
      "4\n"
     ]
    }
   ],
   "source": [
    "for i in range(0,5):\n",
    "    print(i) #correct indentation"
   ]
  },
  {
   "cell_type": "code",
   "execution_count": 25,
   "id": "c4a8cde1",
   "metadata": {},
   "outputs": [
    {
     "ename": "IndentationError",
     "evalue": "expected an indented block (2750999459.py, line 3)",
     "output_type": "error",
     "traceback": [
      "\u001b[1;36m  Input \u001b[1;32mIn [25]\u001b[1;36m\u001b[0m\n\u001b[1;33m    print (i)\u001b[0m\n\u001b[1;37m    ^\u001b[0m\n\u001b[1;31mIndentationError\u001b[0m\u001b[1;31m:\u001b[0m expected an indented block\n"
     ]
    }
   ],
   "source": [
    "#if indentation is skipped we will encounter \"IndentationError: expected an indentation\"\n",
    "for i in range(0,5):\n",
    "print (i)"
   ]
  },
  {
   "cell_type": "code",
   "execution_count": 26,
   "id": "d889b5ab",
   "metadata": {},
   "outputs": [
    {
     "name": "stdout",
     "output_type": "stream",
     "text": [
      "0\n",
      "1\n",
      "2\n",
      "3\n",
      "4\n"
     ]
    }
   ],
   "source": [
    "for i in range (0,5): print (i) #correct indentation but leaa readable"
   ]
  },
  {
   "cell_type": "code",
   "execution_count": 30,
   "id": "4aa9673e",
   "metadata": {},
   "outputs": [
    {
     "name": "stdout",
     "output_type": "stream",
     "text": [
      "0\n",
      "20\n",
      "1\n",
      "20\n",
      "2\n",
      "20\n",
      "3\n",
      "20\n",
      "4\n",
      "20\n"
     ]
    }
   ],
   "source": [
    "j=20\n",
    "for i in range(0,5):\n",
    "    print (i) #inside the for loop\n",
    "    print (j) # outside the for loop"
   ]
  },
  {
   "cell_type": "markdown",
   "id": "76a9e2e2",
   "metadata": {},
   "source": [
    "# Docstrings\n",
    "        1. Docstrings provide a convenient way of associating documentation with functions, classes,methods or modules.\n",
    "        2. They appear right after the definition of a function, method, class, or module."
   ]
  },
  {
   "cell_type": "code",
   "execution_count": 34,
   "id": "2ec1932a",
   "metadata": {},
   "outputs": [],
   "source": [
    "def square (num):\n",
    "    '''Square Function :- This function will return the square of a number'''\n",
    "    return num**2"
   ]
  },
  {
   "cell_type": "code",
   "execution_count": 36,
   "id": "894dbab0",
   "metadata": {},
   "outputs": [
    {
     "data": {
      "text/plain": [
       "4"
      ]
     },
     "execution_count": 36,
     "metadata": {},
     "output_type": "execute_result"
    }
   ],
   "source": [
    "square(2)"
   ]
  },
  {
   "cell_type": "code",
   "execution_count": 37,
   "id": "dd186ca2",
   "metadata": {},
   "outputs": [
    {
     "data": {
      "text/plain": [
       "'Square Function :- This function will return the square of a number'"
      ]
     },
     "execution_count": 37,
     "metadata": {},
     "output_type": "execute_result"
    }
   ],
   "source": [
    "square.__doc__ #we can access the Docstring using __doc__method"
   ]
  },
  {
   "cell_type": "code",
   "execution_count": 39,
   "id": "684d0ccb",
   "metadata": {},
   "outputs": [],
   "source": [
    "def evenodd(num):\n",
    "    '''evenodd Function :- This function will test whether a number is even or odd'''\n",
    "    if num % 2 == 0:\n",
    "        print (\"Even Number\")\n",
    "    else:\n",
    "            print(\"Odd Number\")"
   ]
  },
  {
   "cell_type": "code",
   "execution_count": 40,
   "id": "0b0e4739",
   "metadata": {},
   "outputs": [
    {
     "name": "stdout",
     "output_type": "stream",
     "text": [
      "Odd Number\n"
     ]
    }
   ],
   "source": [
    "evenodd(3)"
   ]
  },
  {
   "cell_type": "code",
   "execution_count": 41,
   "id": "77039398",
   "metadata": {},
   "outputs": [
    {
     "name": "stdout",
     "output_type": "stream",
     "text": [
      "Even Number\n"
     ]
    }
   ],
   "source": [
    "evenodd(4)"
   ]
  },
  {
   "cell_type": "code",
   "execution_count": 42,
   "id": "574eb0c3",
   "metadata": {},
   "outputs": [
    {
     "data": {
      "text/plain": [
       "'evenodd Function :- This function will test whether a number is even or odd'"
      ]
     },
     "execution_count": 42,
     "metadata": {},
     "output_type": "execute_result"
    }
   ],
   "source": [
    "evenodd.__doc__"
   ]
  },
  {
   "cell_type": "markdown",
   "id": "187ea666",
   "metadata": {},
   "source": [
    "# Variables\n",
    "        A Python variable is a reserved memory location to store values. A variable is created the moment you first assign a value to it."
   ]
  },
  {
   "cell_type": "code",
   "execution_count": 43,
   "id": "2d1a5788",
   "metadata": {},
   "outputs": [],
   "source": [
    "p = 30"
   ]
  },
  {
   "cell_type": "code",
   "execution_count": 44,
   "id": "69036439",
   "metadata": {},
   "outputs": [
    {
     "data": {
      "text/plain": [
       "1572445449424"
      ]
     },
     "execution_count": 44,
     "metadata": {},
     "output_type": "execute_result"
    }
   ],
   "source": [
    "'''\n",
    "id() function returns the \"identity\" of the object.\n",
    "the identity of an object - is an integer.\n",
    "                          - Guarantedd to be unique.\n",
    "                          - Constant for this object during its lifetime.\n",
    "'''\n",
    "id(p)"
   ]
  },
  {
   "cell_type": "code",
   "execution_count": 45,
   "id": "32b0f1fd",
   "metadata": {},
   "outputs": [
    {
     "data": {
      "text/plain": [
       "'0x16e1d0d6cd0'"
      ]
     },
     "execution_count": 45,
     "metadata": {},
     "output_type": "execute_result"
    }
   ],
   "source": [
    "hex(id(p)) #memory address of the variable"
   ]
  },
  {
   "cell_type": "code",
   "execution_count": 46,
   "id": "a0ae3b0d",
   "metadata": {},
   "outputs": [
    {
     "data": {
      "text/plain": [
       "(20, int, '0x16e1d0d6b90')"
      ]
     },
     "execution_count": 46,
     "metadata": {},
     "output_type": "execute_result"
    }
   ],
   "source": [
    "p = 20 #creates an integer object with the value 20 and assigns the variable p to pointed\n",
    "q = 20 # create new reference q which will point to value 20. p and q will be pointerd\n",
    "r = q #variable r will also point to same location where p and q are pointing\n",
    "p, type(p), hex(id(p)) #variable P is pointing to memory location '0x16e1d0d6cd0'"
   ]
  },
  {
   "cell_type": "code",
   "execution_count": 47,
   "id": "a8773a35",
   "metadata": {},
   "outputs": [
    {
     "data": {
      "text/plain": [
       "(20, int, '0x16e1d0d6b90')"
      ]
     },
     "execution_count": 47,
     "metadata": {},
     "output_type": "execute_result"
    }
   ],
   "source": [
    "q, type(q), hex(id(q))"
   ]
  },
  {
   "cell_type": "code",
   "execution_count": 48,
   "id": "fc672ebe",
   "metadata": {},
   "outputs": [
    {
     "data": {
      "text/plain": [
       "(20, int, '0x16e1d0d6b90')"
      ]
     },
     "execution_count": 48,
     "metadata": {},
     "output_type": "execute_result"
    }
   ],
   "source": [
    "r, type(r), hex(id(r))"
   ]
  },
  {
   "cell_type": "code",
   "execution_count": null,
   "id": "a6816b36",
   "metadata": {},
   "outputs": [],
   "source": []
  }
 ],
 "metadata": {
  "kernelspec": {
   "display_name": "Python 3 (ipykernel)",
   "language": "python",
   "name": "python3"
  },
  "language_info": {
   "codemirror_mode": {
    "name": "ipython",
    "version": 3
   },
   "file_extension": ".py",
   "mimetype": "text/x-python",
   "name": "python",
   "nbconvert_exporter": "python",
   "pygments_lexer": "ipython3",
   "version": "3.9.12"
  }
 },
 "nbformat": 4,
 "nbformat_minor": 5
}
